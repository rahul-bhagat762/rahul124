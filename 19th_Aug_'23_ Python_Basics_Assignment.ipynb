{
 "cells": [
  {
   "cell_type": "markdown",
   "id": "d7938d30-b230-46be-be16-753194164437",
   "metadata": {},
   "source": [
    "Assignment 1"
   ]
  },
  {
   "cell_type": "code",
   "execution_count": 1,
   "id": "c415b148-c68a-4c88-84b8-901c22254dfc",
   "metadata": {},
   "outputs": [],
   "source": [
    "# 1. Declare two variables, `x` and `y`, and assign them integer values. Swap the\n",
    "# values of these variables without using any temporary variable."
   ]
  },
  {
   "cell_type": "code",
   "execution_count": 2,
   "id": "79748933-96ae-40ef-a1f0-941ab35900b8",
   "metadata": {},
   "outputs": [],
   "source": [
    "a = 3\n",
    "b = 5"
   ]
  },
  {
   "cell_type": "code",
   "execution_count": 3,
   "id": "f080401b-a3c0-487e-a8a3-d95772d1a260",
   "metadata": {},
   "outputs": [
    {
     "data": {
      "text/plain": [
       "(3, 5)"
      ]
     },
     "execution_count": 3,
     "metadata": {},
     "output_type": "execute_result"
    }
   ],
   "source": [
    "# Before swap\n",
    "a,b"
   ]
  },
  {
   "cell_type": "code",
   "execution_count": 4,
   "id": "5aa415c1-5329-4b7d-a897-bbb337c024a3",
   "metadata": {},
   "outputs": [],
   "source": [
    "a , b = b, a"
   ]
  },
  {
   "cell_type": "code",
   "execution_count": 5,
   "id": "c1416278-757a-477c-87f4-271e3734525f",
   "metadata": {},
   "outputs": [
    {
     "data": {
      "text/plain": [
       "(5, 3)"
      ]
     },
     "execution_count": 5,
     "metadata": {},
     "output_type": "execute_result"
    }
   ],
   "source": [
    "# after swap\n",
    "a , b"
   ]
  },
  {
   "cell_type": "code",
   "execution_count": 6,
   "id": "09a817c4-48ad-4724-ae43-4780d3593b3a",
   "metadata": {},
   "outputs": [],
   "source": [
    "# 2.Create a program that calculates the area of a rectangle. Take the length and\n",
    "# width as inputs from the user and store them in variables. Calculate and\n",
    "# display the area."
   ]
  },
  {
   "cell_type": "code",
   "execution_count": 7,
   "id": "1f5067ba-8cc1-4635-9836-2f8123e1fbf9",
   "metadata": {},
   "outputs": [
    {
     "name": "stdin",
     "output_type": "stream",
     "text": [
      "Enter length: 34\n",
      "Enter breath 23\n"
     ]
    }
   ],
   "source": [
    "#input take from user\n",
    "l =int(input(\"Enter length:\"))\n",
    "b = int(input(\"Enter breath\"))"
   ]
  },
  {
   "cell_type": "code",
   "execution_count": 8,
   "id": "bdfe6bac-6e05-40f3-af35-0087e78142a5",
   "metadata": {},
   "outputs": [
    {
     "data": {
      "text/plain": [
       "782"
      ]
     },
     "execution_count": 8,
     "metadata": {},
     "output_type": "execute_result"
    }
   ],
   "source": [
    "#area of rectangle\n",
    "area = l*b\n",
    "area"
   ]
  },
  {
   "cell_type": "code",
   "execution_count": 9,
   "id": "965d3f86-a589-48aa-9899-e181b391df9e",
   "metadata": {},
   "outputs": [],
   "source": [
    "# 3.Write a Python program that converts temperatures from Celsius to\n",
    "# Fahrenheit. Take the temperature in Celsius as input, store it in a variable,\n",
    "# convert it to Fahrenheit, and display the result."
   ]
  },
  {
   "cell_type": "code",
   "execution_count": 10,
   "id": "f7bbcd58-2aa9-420a-8d30-7e709180742e",
   "metadata": {},
   "outputs": [
    {
     "name": "stdin",
     "output_type": "stream",
     "text": [
      "Enter celsius: 23.76\n"
     ]
    }
   ],
   "source": [
    "celsius = float(input(\"Enter celsius:\"))"
   ]
  },
  {
   "cell_type": "code",
   "execution_count": 11,
   "id": "de435764-514c-4b8f-a94c-aabff5b6ca44",
   "metadata": {},
   "outputs": [],
   "source": [
    "f = (celsius * (9/5)) + 32"
   ]
  },
  {
   "cell_type": "code",
   "execution_count": 12,
   "id": "fee1c9b4-6d87-46be-a110-e46f7e9411e1",
   "metadata": {},
   "outputs": [
    {
     "data": {
      "text/plain": [
       "74.768"
      ]
     },
     "execution_count": 12,
     "metadata": {},
     "output_type": "execute_result"
    }
   ],
   "source": [
    "f"
   ]
  },
  {
   "cell_type": "markdown",
   "id": "0ba06e90-7a5e-42bb-9529-1dd0abc898eb",
   "metadata": {},
   "source": [
    "String Based Questions"
   ]
  },
  {
   "cell_type": "code",
   "execution_count": 13,
   "id": "2ac3f91d-231c-44d1-b7dc-dcbdda4e1d03",
   "metadata": {},
   "outputs": [
    {
     "name": "stdin",
     "output_type": "stream",
     "text": [
      "Enter your string: ram kapoor\n"
     ]
    },
    {
     "data": {
      "text/plain": [
       "10"
      ]
     },
     "execution_count": 13,
     "metadata": {},
     "output_type": "execute_result"
    }
   ],
   "source": [
    "# Write a Python program that takes a string as input and prints the length of\n",
    "# the string.\n",
    "s = input(\"Enter your string:\")\n",
    "length = len(s)\n",
    "length"
   ]
  },
  {
   "cell_type": "code",
   "execution_count": 14,
   "id": "2cff5459-b089-43f9-aaa0-63ee7bfa5cdd",
   "metadata": {},
   "outputs": [
    {
     "name": "stdin",
     "output_type": "stream",
     "text": [
      "Enter your sentence: ram is a cleaver person\n"
     ]
    },
    {
     "data": {
      "text/plain": [
       "8"
      ]
     },
     "execution_count": 14,
     "metadata": {},
     "output_type": "execute_result"
    }
   ],
   "source": [
    "# Create a program that takes a sentence from the user and counts the number\n",
    "# of vowels (a, e, i, o, u) in the string.\n",
    "s = input(\"Enter your sentence:\")\n",
    "count = 0\n",
    "vowel = \"'a','A','e','E','i','I','o','O','u','U'\"\n",
    "# here we take a character from sentence in i\n",
    "for i in s:\n",
    "    #here we check this is present in vowel or not if present then increase count by 1\n",
    "    if(i in vowel):\n",
    "        count+=1\n",
    "    \n",
    "count"
   ]
  },
  {
   "cell_type": "code",
   "execution_count": 15,
   "id": "15ef3ec1-5df7-4a5d-a7ce-abb3f3223662",
   "metadata": {},
   "outputs": [
    {
     "name": "stdout",
     "output_type": "stream",
     "text": [
      "hsekar\n"
     ]
    }
   ],
   "source": [
    "# Given a string, reverse the order of characters using string slicing and print\n",
    "# the reversed string.\n",
    "s1 = \"rakesh\"\n",
    "\n",
    "#here we simply print inut from -1 in backward manner\n",
    "print(s1[::-1])"
   ]
  },
  {
   "cell_type": "code",
   "execution_count": 18,
   "id": "3b9cec14-ab60-4d7a-beff-f49cdba50c23",
   "metadata": {},
   "outputs": [
    {
     "name": "stdin",
     "output_type": "stream",
     "text": [
      "Enter your string: ramu\n"
     ]
    },
    {
     "name": "stdout",
     "output_type": "stream",
     "text": [
      "This is not palindrom\n"
     ]
    }
   ],
   "source": [
    "# 4. Write a program that takes a string as input and checks if it is a palindrome\n",
    "# (reads the same forwards and backwards).\n",
    "\n",
    "#take input from user \n",
    "s2 =input(\"Enter your string:\")\n",
    "\n",
    "#convert in lower case\n",
    "s2 = s2.lower()\n",
    "\n",
    "#reverse this taken string\n",
    "rev = s2[::-1]\n",
    "\n",
    "# check these both are equal or not\n",
    "if(s2!=rev):\n",
    "    print(\"This is not palindrom\")\n",
    "else:\n",
    "    print(\"This is palindrom\")\n"
   ]
  },
  {
   "cell_type": "code",
   "execution_count": 21,
   "id": "310c97a2-b3a4-463c-8086-0bb0d0992088",
   "metadata": {},
   "outputs": [
    {
     "name": "stdin",
     "output_type": "stream",
     "text": [
      "Enter your string: ram is a cleaver man\n"
     ]
    },
    {
     "data": {
      "text/plain": [
       "'ramisacleaverman'"
      ]
     },
     "execution_count": 21,
     "metadata": {},
     "output_type": "execute_result"
    }
   ],
   "source": [
    "# 5. Create a program that takes a string as input and removes all the spaces from\n",
    "# it. Print the modified string without spaces.\n",
    "\n",
    "# take input from user\n",
    "s3 = input(\"Enter your string:\")\n",
    "\n",
    "# here we replce spae to non-space string\n",
    "s3 = s3.replace(\" \",\"\")\n",
    "\n",
    "#print\n",
    "s3\n"
   ]
  }
 ],
 "metadata": {
  "kernelspec": {
   "display_name": "Python 3 (ipykernel)",
   "language": "python",
   "name": "python3"
  },
  "language_info": {
   "codemirror_mode": {
    "name": "ipython",
    "version": 3
   },
   "file_extension": ".py",
   "mimetype": "text/x-python",
   "name": "python",
   "nbconvert_exporter": "python",
   "pygments_lexer": "ipython3",
   "version": "3.10.8"
  }
 },
 "nbformat": 4,
 "nbformat_minor": 5
}
